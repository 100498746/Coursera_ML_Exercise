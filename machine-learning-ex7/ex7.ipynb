{
 "cells": [
  {
   "cell_type": "markdown",
   "metadata": {},
   "source": [
    "# 1、K-means Clustering\n",
    "\n",
    "在这个练习中，您将实现K-means算法并将其用于图像压缩。通过减少图像中出现的颜色的数量，只剩下那些在图像中最常见的颜色。\n",
    "\n",
    "## 1.1 Implementing K-means\n",
    "### 1.1.1 Finding closest centroids\n",
    "在K-means算法的分配簇的阶段，算法将每一个训练样本$x_i$分配给最接近的簇中心。\n",
    "\n",
    "$$c^{(i)} := j $$ \n",
    "that minimizes\n",
    "$$||x^{(i)} - μ_j||$$\n"
   ]
  },
  {
   "cell_type": "code",
   "execution_count": 2,
   "metadata": {},
   "outputs": [],
   "source": [
    "import numpy as np\n",
    "import pandas as pd\n",
    "import matplotlib.pyplot as plt\n",
    "from scipy.io import loadmat"
   ]
  },
  {
   "cell_type": "code",
   "execution_count": 3,
   "metadata": {},
   "outputs": [],
   "source": [
    "def find_closest_centroids(X, centroids):\n",
    "    \"\"\"\n",
    "    该函数接受数据矩阵X和聚类中心内所有中心的位置，并应输出一个一维数组idx，\n",
    "    其中包含索引（值在{1，…， K}，其中K为距离每个训练样本最近中心的总数）。\n",
    "    \"\"\"\n",
    "    idx = []\n",
    "    max_dist = 1000000  # 限制一下最大距离\n",
    "    for i in range(len(X)):\n",
    "        minus = X[i] - centroids\n",
    "        dist = minus[:, 0]**2 + minus[:, 1]**2\n",
    "        if dist.min() < max_dist:\n",
    "            ci = np.argmin(dist)  # numpy.argmin表示最小值在数组中所在的位置\n",
    "            idx.append(ci)\n",
    "    return np.array(idx)"
   ]
  },
  {
   "cell_type": "code",
   "execution_count": 10,
   "metadata": {},
   "outputs": [
    {
     "name": "stdout",
     "output_type": "stream",
     "text": [
      "[0 2 1]\n"
     ]
    }
   ],
   "source": [
    "mat = loadmat('ex7/ex7data2.mat')\n",
    "X = mat['X']\n",
    "init_centroids = np.array([[3, 3], [6, 2], [8, 5]])\n",
    "idx = find_closest_centroids(X, init_centroids)\n",
    "print(idx[0:3])"
   ]
  },
  {
   "cell_type": "markdown",
   "metadata": {},
   "source": [
    "### 1.1.2 Computing centroid means\n",
    "分配好每个点对应的簇中心，接下来要做的是，重新计算每个簇中心，为这个簇里面所有点位置的平均值。\n",
    "\n",
    "$$μ_k := \\frac{1}{|C_k|}\\sum_{i \\in C_k}x^{(i)}$$\n",
    "\n",
    "$C_k$是我们分配好给簇中心点的样本集。"
   ]
  },
  {
   "cell_type": "code",
   "execution_count": 17,
   "metadata": {},
   "outputs": [],
   "source": [
    "def compute_centroids(X, idx):\n",
    "    centroids = []\n",
    "    for i in range(len(np.unique(idx))): # len(np.unique(idx)) 为聚类中心的总数\n",
    "        u_k = X[idx==i].mean(axis=0) # 求每列的平均值\n",
    "        centroids.append(u_k)\n",
    "    \n",
    "    return np.array(centroids)"
   ]
  },
  {
   "cell_type": "code",
   "execution_count": 24,
   "metadata": {},
   "outputs": [
    {
     "data": {
      "text/plain": [
       "array([[2.42830111, 3.15792418],\n",
       "       [5.81350331, 2.63365645],\n",
       "       [7.11938687, 3.6166844 ]])"
      ]
     },
     "execution_count": 24,
     "metadata": {},
     "output_type": "execute_result"
    }
   ],
   "source": [
    "compute_centroids(X, idx)"
   ]
  },
  {
   "cell_type": "markdown",
   "metadata": {},
   "source": [
    "## 1.2 K-means on example dataset"
   ]
  },
  {
   "cell_type": "code",
   "execution_count": 65,
   "metadata": {},
   "outputs": [],
   "source": [
    "def plot_data(X, centroids, idx=None):\n",
    "    \"\"\"\n",
    "    可视化数据，并自动分开着色。\n",
    "    idx: 最后一次迭代生成的idx向量，存储每个样本分配的簇中心点的值\n",
    "    centroids: 包含每次中心点历史记录\n",
    "    \"\"\"\n",
    "    colors = ['b','g','gold','darkorange','salmon','olivedrab', \n",
    "              'maroon', 'navy', 'sienna', 'tomato', 'lightgray', 'gainsboro'\n",
    "             'coral', 'aliceblue', 'dimgray', 'mintcream', 'mintcream']\n",
    "    \n",
    "    assert len(centroids[0]) <= len(colors), 'colors not enough'\n",
    "    \n",
    "    sub_X = []\n",
    "    if idx is not None:\n",
    "        for i in range(centroids[0].shape[0]):\n",
    "            x_i = X[idx == i]\n",
    "            sub_X.append(x_i)\n",
    "    else:\n",
    "        sub_X = [X]\n",
    "        \n",
    "    plt.figure(figsize=(8,5))\n",
    "    for i in range(len(sub_X)):\n",
    "        xx = sub_X[i]\n",
    "        plt.scatter(xx[:,0], xx[:,1], c=colors[i], label='Cluster {}'.format(i))\n",
    "    plt.legend()\n",
    "    plt.grid(True)\n",
    "    plt.xlabel('x1', fontsize=14)\n",
    "    plt.ylabel('x2', fontsize=14)\n",
    "    plt.title('Plot of X Points', fontsize=16)\n",
    "    \n",
    "    # 画出中心点的移动轨迹\n",
    "    xx, yy = [], []\n",
    "    for centroid in centroids:\n",
    "        xx.append(centroid[:, 0])\n",
    "        yy.append(centroid[:, 1])\n",
    "    \n",
    "    plt.plot(xx, yy, 'rx--', markersize=8)"
   ]
  },
  {
   "cell_type": "code",
   "execution_count": 66,
   "metadata": {},
   "outputs": [
    {
     "data": {
      "image/png": "[encoded data removed]",
      "text/plain": [
       "<Figure size 576x360 with 1 Axes>"
      ]
     },
     "metadata": {
      "needs_background": "light"
     },
     "output_type": "display_data"
    }
   ],
   "source": [
    "plot_data(X, [init_centroids])"
   ]
  },
  {
   "cell_type": "code",
   "execution_count": 67,
   "metadata": {},
   "outputs": [],
   "source": [
    "def run_kmeans(X, centroids, max_iters):\n",
    "    K = len(centroids)  # 中心点总数\n",
    "    \n",
    "    centroids_all = []\n",
    "    centroids_all.append(centroids)\n",
    "    centroid_i = centroids\n",
    "    for i in range(max_iters):\n",
    "        idx = find_closest_centroids(X, centroid_i)\n",
    "        centroid_i = compute_centroids(X, idx)\n",
    "        centroids_all.append(centroid_i)\n",
    "    \n",
    "    return idx, centroids_all"
   ]
  },
  {
   "cell_type": "code",
   "execution_count": 68,
   "metadata": {},
   "outputs": [
    {
     "data": {
      "image/png": "[encoded data removed]",
      "text/plain": [
       "<Figure size 576x360 with 1 Axes>"
      ]
     },
     "metadata": {
      "needs_background": "light"
     },
     "output_type": "display_data"
    }
   ],
   "source": [
    "idx, centroids_all = run_kmeans(X, init_centroids, 20)\n",
    "plot_data(X, centroids_all, idx)"
   ]
  },
  {
   "cell_type": "code",
   "execution_count": 76,
   "metadata": {},
   "outputs": [
    {
     "data": {
      "text/plain": [
       "[array([[3, 3],\n",
       "        [6, 2],\n",
       "        [8, 5]])]"
      ]
     },
     "execution_count": 76,
     "metadata": {},
     "output_type": "execute_result"
    }
   ],
   "source": [
    "centroids_all = []\n",
    "centroids_all.append(init_centroids)\n",
    "centroids_all"
   ]
  },
  {
   "cell_type": "code",
   "execution_count": 44,
   "metadata": {},
   "outputs": [
    {
     "data": {
      "text/plain": [
       "[array([3, 2, 5])]"
      ]
     },
     "execution_count": 44,
     "metadata": {},
     "output_type": "execute_result"
    }
   ],
   "source": [
    "yy"
   ]
  },
  {
   "cell_type": "code",
   "execution_count": null,
   "metadata": {},
   "outputs": [],
   "source": []
  }
 ],
 "metadata": {
  "kernelspec": {
   "display_name": "Python 3",
   "language": "python",
   "name": "python3"
  },
  "language_info": {
   "codemirror_mode": {
    "name": "ipython",
    "version": 3
   },
   "file_extension": ".py",
   "mimetype": "text/x-python",
   "name": "python",
   "nbconvert_exporter": "python",
   "pygments_lexer": "ipython3",
   "version": "3.7.1"
  }
 },
 "nbformat": 4,
 "nbformat_minor": 2
}
